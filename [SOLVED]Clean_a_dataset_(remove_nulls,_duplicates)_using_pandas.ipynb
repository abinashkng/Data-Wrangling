{
  "nbformat": 4,
  "nbformat_minor": 0,
  "metadata": {
    "colab": {
      "private_outputs": true,
      "provenance": [],
      "authorship_tag": "ABX9TyOPdG+U4ofNyNpfE5GC6fo/",
      "include_colab_link": true
    },
    "kernelspec": {
      "name": "python3",
      "display_name": "Python 3"
    },
    "language_info": {
      "name": "python"
    }
  },
  "cells": [
    {
      "cell_type": "markdown",
      "metadata": {
        "id": "view-in-github",
        "colab_type": "text"
      },
      "source": [
        "<a href=\"https://colab.research.google.com/github/abinashkng/Data-Wrangling/blob/main/%5BSOLVED%5DClean_a_dataset_(remove_nulls%2C_duplicates)_using_pandas.ipynb\" target=\"_parent\"><img src=\"https://colab.research.google.com/assets/colab-badge.svg\" alt=\"Open In Colab\"/></a>"
      ]
    },
    {
      "cell_type": "markdown",
      "source": [
        "# **Medical Insurance Cost Dataset**"
      ],
      "metadata": {
        "id": "UCIZkeGVti5X"
      }
    },
    {
      "cell_type": "code",
      "execution_count": null,
      "metadata": {
        "id": "y3NFVTPLrTui"
      },
      "outputs": [],
      "source": [
        "import kagglehub\n",
        "\n",
        "# Download latest version\n",
        "path = kagglehub.dataset_download(\"mosapabdelghany/medical-insurance-cost-dataset\")\n",
        "\n",
        "print(\"Path to dataset files:\", path)"
      ]
    },
    {
      "cell_type": "code",
      "source": [
        "import pandas as pd\n",
        "\n",
        "df = pd.read_csv(path + \"/insurance.csv\")\n",
        "df.head(15)"
      ],
      "metadata": {
        "id": "qrAoE7YgsgPl"
      },
      "execution_count": null,
      "outputs": []
    },
    {
      "cell_type": "code",
      "metadata": {
        "id": "a60e42ba"
      },
      "source": [
        "# Check for null values\n",
        "print(\"Null values:\\n\", df.isnull().sum())"
      ],
      "execution_count": null,
      "outputs": []
    },
    {
      "cell_type": "code",
      "metadata": {
        "id": "ad37655f"
      },
      "source": [
        "# Check for duplicate rows\n",
        "print(\"\\nDuplicate rows:\", df.duplicated().sum())"
      ],
      "execution_count": null,
      "outputs": []
    },
    {
      "cell_type": "code",
      "source": [
        "df[df.duplicated()]"
      ],
      "metadata": {
        "id": "WP0IES-JtyYb"
      },
      "execution_count": null,
      "outputs": []
    },
    {
      "cell_type": "code",
      "source": [
        "df.drop_duplicates(inplace=True)"
      ],
      "metadata": {
        "id": "kuUcJUnyuH4j"
      },
      "execution_count": null,
      "outputs": []
    },
    {
      "cell_type": "code",
      "metadata": {
        "id": "300675a2"
      },
      "source": [
        "# Describe the dataframe\n",
        "print(\"\\nDataframe description:\\n\", df.describe(include='all'))"
      ],
      "execution_count": null,
      "outputs": []
    },
    {
      "cell_type": "code",
      "metadata": {
        "id": "07aa5793"
      },
      "source": [
        "# Get value counts for categorical columns\n",
        "for col in df.select_dtypes(include='object').columns:\n",
        "    print(f\"\\nValue counts for '{col}':\\n\", df[col].value_counts())"
      ],
      "execution_count": null,
      "outputs": []
    },
    {
      "cell_type": "markdown",
      "source": [
        "# **Flight Delay Dataset — 2024**"
      ],
      "metadata": {
        "id": "1EgyIeNGvM6k"
      }
    },
    {
      "cell_type": "code",
      "metadata": {
        "id": "191bc98c"
      },
      "source": [
        "import kagglehub\n",
        "\n",
        "# Download latest version\n",
        "path = kagglehub.dataset_download(\"hrishitpatil/flight-data-2024\")\n",
        "\n",
        "print(\"Path to dataset files:\", path)"
      ],
      "execution_count": null,
      "outputs": []
    },
    {
      "cell_type": "code",
      "metadata": {
        "id": "2d23536a"
      },
      "source": [
        "import pandas as pd"
      ],
      "execution_count": null,
      "outputs": []
    },
    {
      "cell_type": "code",
      "source": [
        "df = pd.read_csv(path + \"/flight_data_2024.csv\", nrows=50)\n",
        "df.head()"
      ],
      "metadata": {
        "id": "ZJuXdV2_00Iv"
      },
      "execution_count": null,
      "outputs": []
    },
    {
      "cell_type": "code",
      "source": [
        "df.transpose()"
      ],
      "metadata": {
        "id": "f92KgICa2CM5"
      },
      "execution_count": null,
      "outputs": []
    },
    {
      "cell_type": "code",
      "source": [
        "df2 = pd.read_csv(path + \"/flight_data_2024.csv\")"
      ],
      "metadata": {
        "id": "ZVuGpqSu4LEL"
      },
      "execution_count": null,
      "outputs": []
    },
    {
      "cell_type": "code",
      "source": [
        "df2.isnull().sum()"
      ],
      "metadata": {
        "id": "x4SoEY2_4wIC"
      },
      "execution_count": null,
      "outputs": []
    },
    {
      "cell_type": "code",
      "source": [
        "(df2.isnull().sum()/len(df2))*100"
      ],
      "metadata": {
        "id": "ajUM7Awg67GB"
      },
      "execution_count": null,
      "outputs": []
    },
    {
      "cell_type": "code",
      "source": [
        "df3 = df2.duplicated().sum()"
      ],
      "metadata": {
        "id": "LvBOnZmJ5Rgr"
      },
      "execution_count": null,
      "outputs": []
    },
    {
      "cell_type": "code",
      "source": [
        "df3"
      ],
      "metadata": {
        "id": "Z-3_FERs5brj"
      },
      "execution_count": null,
      "outputs": []
    }
  ]
}